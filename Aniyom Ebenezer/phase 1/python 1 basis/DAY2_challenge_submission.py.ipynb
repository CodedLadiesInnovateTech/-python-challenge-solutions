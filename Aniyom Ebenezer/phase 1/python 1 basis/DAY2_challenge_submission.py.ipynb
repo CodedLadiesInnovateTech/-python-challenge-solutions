{
 "cells": [
  {
   "cell_type": "code",
   "execution_count": 6,
   "metadata": {},
   "outputs": [
    {
     "name": "stdout",
     "output_type": "stream",
     "text": [
      "'Sample String: \"Twinkle, twinkle, little star. How I wonder what you are! up above there was so high, \n",
      "Like a diamond in the sky. Twinkle, twinkle, little star, How I wonder what you are.\"'\n"
     ]
    }
   ],
   "source": [
    "#1 A program to print the string lateral\n",
    "print(\"\\'Sample String: \\\"Twinkle, twinkle, little star. How I wonder what you are! up above there was so high, \\nLike a diamond in the sky. Twinkle, twinkle, little star, How I wonder what you are.\\\"\\'\")"
   ]
  },
  {
   "cell_type": "code",
   "execution_count": 8,
   "metadata": {},
   "outputs": [
    {
     "name": "stdout",
     "output_type": "stream",
     "text": [
      "Python version\n",
      "3.7.3 (default, Apr 24 2019, 15:29:51) [MSC v.1915 64 bit (AMD64)]\n"
     ]
    }
   ],
   "source": [
    "#2 A program to output the version of python used in my PC\n",
    "import sys\n",
    "print(\"Python version\")\n",
    "print (sys.version)"
   ]
  },
  {
   "cell_type": "code",
   "execution_count": 11,
   "metadata": {},
   "outputs": [
    {
     "name": "stdout",
     "output_type": "stream",
     "text": [
      "Current date and time: \n",
      "14-05-2020 03:13:08\n"
     ]
    }
   ],
   "source": [
    "#3 A program to output current date and time\n",
    "import datetime\n",
    "now = datetime.datetime.now()\n",
    "print (\"Current date and time: \")\n",
    "print (now.strftime(\"%d-%m-%Y %H:%M:%S\"))"
   ]
  },
  {
   "cell_type": "code",
   "execution_count": 16,
   "metadata": {},
   "outputs": [
    {
     "name": "stdout",
     "output_type": "stream",
     "text": [
      "Enter the radius of the circle: \n",
      "7\n",
      "The Area of the circle is: 153.93804002589985\n"
     ]
    }
   ],
   "source": [
    "#4 Python program which accepts the radius of a circle from the user and compute the area.\n",
    "from math import pi\n",
    "print(\"Enter the radius of the circle: \")\n",
    "r = float(input())\n",
    "Area = pi*r**2\n",
    "print(\"The Area of the circle is: {}\".format(Area))"
   ]
  },
  {
   "cell_type": "code",
   "execution_count": 18,
   "metadata": {},
   "outputs": [
    {
     "name": "stdout",
     "output_type": "stream",
     "text": [
      "Enter your First Name: EBEN\n",
      "Enter your Last Name: ANIYOM\n",
      "Aniyom Eben\n"
     ]
    }
   ],
   "source": [
    "#5 Program which accepts the user's first and last name and print them in reverse order with a space between them\n",
    "firstName = input(\"Enter your First Name: \").title()\n",
    "lastName = input(\"Enter your Last Name: \").title()\n",
    "print(\"{} {}\".format(lastName,firstName))"
   ]
  },
  {
   "cell_type": "code",
   "execution_count": 45,
   "metadata": {},
   "outputs": [
    {
     "name": "stdout",
     "output_type": "stream",
     "text": [
      "Input some comma seprated numbers : 5,45,4\n"
     ]
    },
    {
     "ename": "TypeError",
     "evalue": "'list' object is not callable",
     "output_type": "error",
     "traceback": [
      "\u001b[1;31m---------------------------------------------------------------------------\u001b[0m",
      "\u001b[1;31mTypeError\u001b[0m                                 Traceback (most recent call last)",
      "\u001b[1;32m<ipython-input-45-e546310f702f>\u001b[0m in \u001b[0;36m<module>\u001b[1;34m\u001b[0m\n\u001b[0;32m      2\u001b[0m \u001b[0mvalues\u001b[0m \u001b[1;33m=\u001b[0m \u001b[0minput\u001b[0m\u001b[1;33m(\u001b[0m\u001b[1;34m\"Input some comma seprated numbers : \"\u001b[0m\u001b[1;33m)\u001b[0m\u001b[1;33m\u001b[0m\u001b[1;33m\u001b[0m\u001b[0m\n\u001b[0;32m      3\u001b[0m \u001b[0mlist\u001b[0m \u001b[1;33m=\u001b[0m \u001b[0mvalues\u001b[0m\u001b[1;33m.\u001b[0m\u001b[0msplit\u001b[0m\u001b[1;33m(\u001b[0m\u001b[1;34m\",\"\u001b[0m\u001b[1;33m)\u001b[0m\u001b[1;33m\u001b[0m\u001b[1;33m\u001b[0m\u001b[0m\n\u001b[1;32m----> 4\u001b[1;33m \u001b[0mtuple\u001b[0m \u001b[1;33m=\u001b[0m \u001b[0mtuple\u001b[0m\u001b[1;33m(\u001b[0m\u001b[0mlist\u001b[0m\u001b[1;33m)\u001b[0m\u001b[1;33m\u001b[0m\u001b[1;33m\u001b[0m\u001b[0m\n\u001b[0m\u001b[0;32m      5\u001b[0m \u001b[0mprint\u001b[0m\u001b[1;33m(\u001b[0m\u001b[1;34m'List : '\u001b[0m\u001b[1;33m,\u001b[0m\u001b[0mlist\u001b[0m\u001b[1;33m)\u001b[0m\u001b[1;33m\u001b[0m\u001b[1;33m\u001b[0m\u001b[0m\n\u001b[0;32m      6\u001b[0m \u001b[0mprint\u001b[0m\u001b[1;33m(\u001b[0m\u001b[1;34m'Tuple : '\u001b[0m\u001b[1;33m,\u001b[0m\u001b[0mtuple\u001b[0m\u001b[1;33m)\u001b[0m\u001b[1;33m\u001b[0m\u001b[1;33m\u001b[0m\u001b[0m\n",
      "\u001b[1;31mTypeError\u001b[0m: 'list' object is not callable"
     ]
    }
   ],
   "source": [
    "#6 Python program which accepts a sequence of comma-separated numbers from user and generate a list and a tuple with those numbers\n",
    "values = input(\"Input some comma seprated numbers : \")\n",
    "list = values.split(\",\")\n",
    "tuple = tuple(list)\n",
    "print('List : ',list)\n",
    "print('Tuple : ',tuple)"
   ]
  },
  {
   "cell_type": "code",
   "execution_count": 36,
   "metadata": {},
   "outputs": [
    {
     "name": "stdout",
     "output_type": "stream",
     "text": [
      "Input the Filename: cy.py\n",
      "The extension of the file is : 'py'\n"
     ]
    }
   ],
   "source": [
    "#7 program to accept a filename from the user and print the extension of that.\n",
    "filename = input(\"Input the Filename: \")\n",
    "f_extns = filename.split(\".\")\n",
    "print (\"The extension of the file is : \" + repr(f_extns[-1]))"
   ]
  },
  {
   "cell_type": "code",
   "execution_count": 37,
   "metadata": {},
   "outputs": [
    {
     "name": "stdout",
     "output_type": "stream",
     "text": [
      "['Red', 'Black']\n"
     ]
    }
   ],
   "source": [
    "#8 Python program to display the first and last colors from the following list.\n",
    "color_list = [\"Red\",\"Green\",\"White\" ,\"Black\"]\n",
    "print(color_list[0::3])"
   ]
  },
  {
   "cell_type": "code",
   "execution_count": 40,
   "metadata": {},
   "outputs": [
    {
     "name": "stdout",
     "output_type": "stream",
     "text": [
      "The examination will start from: 11 / 12 / 2014\n"
     ]
    }
   ],
   "source": [
    "#9 Python program to display the examination schedule. (extract the date from exam_st_date).\n",
    "exam_st_date = (11, 12, 2014)\n",
    "print(\"The examination will start from: {} / {} / {}\".format(exam_st_date[0],exam_st_date[1],exam_st_date[2]))"
   ]
  },
  {
   "cell_type": "code",
   "execution_count": 43,
   "metadata": {},
   "outputs": [
    {
     "name": "stdout",
     "output_type": "stream",
     "text": [
      "Enter an integer: 4\n",
      "492\n"
     ]
    }
   ],
   "source": [
    "#10 Python program that accepts an integer (n) and computes the value of n+nn+nnn.\n",
    "n = int(input(\"Enter an integer: \"))\n",
    "n1 = int(\"{}\".format(n))\n",
    "n2 = int(\"{}{}\".format(n,n))\n",
    "n3 = int(\"{}{}{}\".format(n,n,n))\n",
    "print(n1+n2+n3)"
   ]
  },
  {
   "cell_type": "code",
   "execution_count": null,
   "metadata": {},
   "outputs": [],
   "source": []
  }
 ],
 "metadata": {
  "kernelspec": {
   "display_name": "Python 3",
   "language": "python",
   "name": "python3"
  },
  "language_info": {
   "codemirror_mode": {
    "name": "ipython",
    "version": 3
   },
   "file_extension": ".py",
   "mimetype": "text/x-python",
   "name": "python",
   "nbconvert_exporter": "python",
   "pygments_lexer": "ipython3",
   "version": "3.7.3"
  }
 },
 "nbformat": 4,
 "nbformat_minor": 2
}
