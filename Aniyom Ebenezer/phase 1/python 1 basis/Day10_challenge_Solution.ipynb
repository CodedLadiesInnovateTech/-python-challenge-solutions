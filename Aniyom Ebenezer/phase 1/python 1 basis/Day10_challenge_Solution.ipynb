{
 "cells": [
  {
   "cell_type": "markdown",
   "metadata": {},
   "source": [
    "# 1. Python program to concatenate N strings"
   ]
  },
  {
   "cell_type": "code",
   "execution_count": 2,
   "metadata": {},
   "outputs": [
    {
     "name": "stdout",
     "output_type": "stream",
     "text": [
      "The concatenated list of car is:  Benz-Lexus-ferrari-Hilux\n"
     ]
    }
   ],
   "source": [
    "list_of_cars = [\"Benz\", \"Lexus\", \"ferrari\", \"Hilux\"]\n",
    "\n",
    "new_string = \"-\".join(list_of_cars)\n",
    "\n",
    "print(\"The concatenated list of car is: \", new_string)"
   ]
  },
  {
   "cell_type": "markdown",
   "metadata": {},
   "source": [
    "# 2. Python program to calculate the sum over a container"
   ]
  },
  {
   "cell_type": "code",
   "execution_count": 5,
   "metadata": {},
   "outputs": [],
   "source": [
    "s = sum([1,2,3,4,5])\n",
    "print(\"The sum over the container is: \", s)"
   ]
  },
  {
   "cell_type": "markdown",
   "metadata": {},
   "source": [
    "# 3. Python program to test whether all numbers of a list is greater than a certain number"
   ]
  },
  {
   "cell_type": "code",
   "execution_count": 9,
   "metadata": {},
   "outputs": [],
   "source": [
    "num = [10,34,78]\n",
    "\n",
    "print(all(x > 45 for x in num))\n",
    "print(all(x > 5 for x in num))"
   ]
  },
  {
   "cell_type": "markdown",
   "metadata": {},
   "source": [
    "# 4. Python program to count the number of occurence of a specific character in a string"
   ]
  },
  {
   "cell_type": "code",
   "execution_count": 17,
   "metadata": {},
   "outputs": [],
   "source": [
    "stringName = \"I am a python Programmer, I program for a living\".lower() \n",
    "\n",
    "print(stringName.count(\"i\"))"
   ]
  },
  {
   "cell_type": "markdown",
   "metadata": {},
   "source": [
    "# 5. Python program to check whether a file path is a file or a directory"
   ]
  },
  {
   "cell_type": "code",
   "execution_count": 25,
   "metadata": {},
   "outputs": [],
   "source": [
    "import os\n",
    "path = \"test.txt\"\n",
    "if os.path.isdir(path):\n",
    "    print(\"This is a Directory\")\n",
    "elif os.path.isfile(path):\n",
    "    print(\"This is a Normal File\")\n",
    "else:\n",
    "    print(\"This is a special file path\")"
   ]
  },
  {
   "cell_type": "markdown",
   "metadata": {},
   "source": [
    "# 6. Python program to get the ASCII value of a character"
   ]
  },
  {
   "cell_type": "code",
   "execution_count": 27,
   "metadata": {},
   "outputs": [],
   "source": [
    "print(ord(\"a\"))\n",
    "print(ord(\"A\"))\n",
    "print(ord(\"1\"))\n",
    "print(ord(\"@\"))\n",
    "\n",
    "#reference: w3resource"
   ]
  },
  {
   "cell_type": "markdown",
   "metadata": {},
   "source": [
    "# 7. Python program to get the size of a file"
   ]
  },
  {
   "cell_type": "code",
   "execution_count": 2,
   "metadata": {},
   "outputs": [],
   "source": [
    "import os\n",
    "file_size = os.path.getsize(\"test.txt\")\n",
    "print(\"The size of the file is: \",file_name,\"bytes\")"
   ]
  },
  {
   "cell_type": "markdown",
   "metadata": {},
   "source": [
    "# 8. Python program to print \"30 + 20 = 50\" given variables x = 30 and y = 20."
   ]
  },
  {
   "cell_type": "code",
   "execution_count": 4,
   "metadata": {},
   "outputs": [],
   "source": [
    "x = 30\n",
    "y = 20\n",
    "print(\"{} + {} = {}\".format(x,y,(x+y)))"
   ]
  },
  {
   "cell_type": "markdown",
   "metadata": {},
   "source": [
    "# 9. Python program to perform an acction if a condition is true. "
   ]
  },
  {
   "cell_type": "code",
   "execution_count": 5,
   "metadata": {},
   "outputs": [],
   "source": [
    "#Given a variable name, if the value is 1, display the string \"First day of the a Month and do nothing if the value is not equal\"\n",
    "n = 1\n",
    "if n == 1:\n",
    "    print(\"First day of a Month\")"
   ]
  },
  {
   "cell_type": "markdown",
   "metadata": {},
   "source": [
    "# 10. Python program to create a copy of its own source code"
   ]
  },
  {
   "cell_type": "code",
   "execution_count": 13,
   "metadata": {},
   "outputs": [],
   "source": [
    "print((lambda str = \"print(lambda str = %r : (str %% str))()\" : (str % str))())\n",
    "\n",
    "#reference: w3resources.com"
   ]
  },
  {
   "cell_type": "code",
   "execution_count": null,
   "metadata": {},
   "outputs": [],
   "source": []
  }
 ],
 "metadata": {
  "kernelspec": {
   "display_name": "Python 3",
   "language": "python",
   "name": "python3"
  },
  "language_info": {
   "codemirror_mode": {
    "name": "ipython",
    "version": 3
   },
   "file_extension": ".py",
   "mimetype": "text/x-python",
   "name": "python",
   "nbconvert_exporter": "python",
   "pygments_lexer": "ipython3",
   "version": "3.7.3"
  }
 },
 "nbformat": 4,
 "nbformat_minor": 2
}
