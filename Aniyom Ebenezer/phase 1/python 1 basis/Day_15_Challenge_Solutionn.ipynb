{
 "cells": [
  {
   "cell_type": "markdown",
   "metadata": {},
   "source": [
    "# No.1 Python program to split a variable length string into variables."
   ]
  },
  {
   "cell_type": "code",
   "execution_count": 3,
   "metadata": {},
   "outputs": [],
   "source": [
    "var_list = ['a', 'b', 'c']\n",
    "x, y, z = (var_list + [None] * 3)[:3]\n",
    "print(x, y, z)\n",
    "var_list = [100, 20.25]\n",
    "x, y = (var_list + [None] * 2)[:2]\n",
    "print(x, y)"
   ]
  },
  {
   "cell_type": "markdown",
   "metadata": {},
   "source": [
    "# No.2 Python program to list home directory without absolute path."
   ]
  },
  {
   "cell_type": "code",
   "execution_count": 5,
   "metadata": {},
   "outputs": [],
   "source": [
    "import os.path\n",
    "\n",
    "print(os.path.expanduser('~'))\n"
   ]
  },
  {
   "cell_type": "markdown",
   "metadata": {},
   "source": [
    "# No.3 Python program to calculate the time runs (difference between start and current time) of a program."
   ]
  },
  {
   "cell_type": "code",
   "execution_count": 13,
   "metadata": {},
   "outputs": [],
   "source": [
    "from timeit import default_timer\n",
    "def timer(n):\n",
    "    start = default_timer()\n",
    "    for row in range(0, n):\n",
    "        print(row)\n",
    "    print(default_timer() - start)\n",
    "timer(5)\n",
    "timer(15)"
   ]
  },
  {
   "cell_type": "markdown",
   "metadata": {},
   "source": [
    "# No.4 Python program to input two integers in a single line."
   ]
  },
  {
   "cell_type": "code",
   "execution_count": null,
   "metadata": {},
   "outputs": [],
   "source": [
    "print(\"Input the value of x & y\")\n",
    "x, y = map(int, input().split())\n",
    "print(\"The value of x & y are: \",x,y)"
   ]
  },
  {
   "cell_type": "markdown",
   "metadata": {},
   "source": [
    "# No.5 Python program to print a variable without spaces between values.\n",
    "# Sample value : x =30\n",
    "# Expected output : Value of x is \"30\""
   ]
  },
  {
   "cell_type": "code",
   "execution_count": 16,
   "metadata": {},
   "outputs": [],
   "source": [
    "x = 30\n",
    "print(\"Value of x is \\\"{}\\\"\".format(x))"
   ]
  },
  {
   "cell_type": "markdown",
   "metadata": {},
   "source": [
    "# No.6 Python program to find files and skip directories of a given directory.\n"
   ]
  },
  {
   "cell_type": "code",
   "execution_count": 20,
   "metadata": {},
   "outputs": [],
   "source": [
    "import os\n",
    "print([f for f in os.listdir('/Desktop/AniyomEbenezer') if os.path.isfile(os.path.join('/Desktop/AniyomEbenezer', f))])"
   ]
  },
  {
   "cell_type": "markdown",
   "metadata": {},
   "source": [
    "# No.7 Python program to extract single key-value pair of a dictionary in variables."
   ]
  },
  {
   "cell_type": "code",
   "execution_count": null,
   "metadata": {},
   "outputs": [],
   "source": [
    "d = {'Red': 'Green'}\n",
    "(c1, c2), = d.items()\n",
    "print(c1)\n",
    "print(c2)"
   ]
  },
  {
   "cell_type": "markdown",
   "metadata": {},
   "source": [
    "# No.8 Python program to convert true to 1 and false to 0."
   ]
  },
  {
   "cell_type": "code",
   "execution_count": 26,
   "metadata": {},
   "outputs": [],
   "source": [
    "x = \"true\"\n",
    "x = int(x == \"true\")\n",
    "print(x)\n",
    "x = \"eben\"\n",
    "x = int(x == \"true\")\n",
    "print(x)"
   ]
  },
  {
   "cell_type": "markdown",
   "metadata": {},
   "source": [
    "# No.9 Python program to valid a IP address."
   ]
  },
  {
   "cell_type": "code",
   "execution_count": null,
   "metadata": {},
   "outputs": [],
   "source": [
    "import socket\n",
    "addr = '127.0.0.2561'\n",
    "try:\n",
    "    socket.inet_aton(addr)\n",
    "    print(\"Valid IP\")\n",
    "except socket.error:\n",
    "    print(\"Invalid IP\")\n",
    "\t\n",
    "    \n",
    "#reference: w3resource"
   ]
  },
  {
   "cell_type": "markdown",
   "metadata": {},
   "source": [
    "# No.10 Write a Python program to convert an integer to binary keep leading zeros.\n",
    "# Sample data : 50\n",
    "# Expected output : 00001100, 0000001100"
   ]
  },
  {
   "cell_type": "code",
   "execution_count": 36,
   "metadata": {},
   "outputs": [],
   "source": [
    "x = 12\n",
    "print(format(x, \"08b\"))\n",
    "print(format(x, \"010b\"))"
   ]
  }
 ],
 "metadata": {
  "kernelspec": {
   "display_name": "Python 3",
   "language": "python",
   "name": "python3"
  },
  "language_info": {
   "codemirror_mode": {
    "name": "ipython",
    "version": 3
   },
   "file_extension": ".py",
   "mimetype": "text/x-python",
   "name": "python",
   "nbconvert_exporter": "python",
   "pygments_lexer": "ipython3",
   "version": "3.7.3"
  }
 },
 "nbformat": 4,
 "nbformat_minor": 2
}
