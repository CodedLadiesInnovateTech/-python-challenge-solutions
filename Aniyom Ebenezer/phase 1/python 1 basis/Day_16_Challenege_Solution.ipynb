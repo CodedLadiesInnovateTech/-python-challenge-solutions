{
 "cells": [
  {
   "cell_type": "markdown",
   "metadata": {},
   "source": [
    "# No.1 python program to convert decimal to hexadecimal."
   ]
  },
  {
   "cell_type": "code",
   "execution_count": 2,
   "metadata": {},
   "outputs": [],
   "source": [
    "x = 50\n",
    "print(format(x, \"02x\"))"
   ]
  },
  {
   "cell_type": "markdown",
   "metadata": {},
   "source": [
    "# No.2 Python program to find the operating system name, platform and platform release date."
   ]
  },
  {
   "cell_type": "code",
   "execution_count": null,
   "metadata": {},
   "outputs": [],
   "source": [
    "import os, platform\n",
    "print(\"Operating system name:\")\n",
    "print(os.name)\n",
    "print(\"Platform name:\")\n",
    "print(platform.system())\n",
    "print(\"Platform release:\")\n",
    "print(platform.release())"
   ]
  },
  {
   "cell_type": "markdown",
   "metadata": {},
   "source": [
    "# No.3  Python program to determine if the python shell is executing in 32bit or 64bit mode on operating system"
   ]
  },
  {
   "cell_type": "code",
   "execution_count": 4,
   "metadata": {},
   "outputs": [],
   "source": [
    "import struct\n",
    "print(struct.calcsize(\"P\")*8)"
   ]
  },
  {
   "cell_type": "markdown",
   "metadata": {},
   "source": [
    "# No.4 Python program to check whether a variable is integer or string"
   ]
  },
  {
   "cell_type": "code",
   "execution_count": null,
   "metadata": {},
   "outputs": [],
   "source": [
    "print(isinstance(25,int) or isinstance(25,str))\n",
    "print(isinstance([25],int) or isinstance([25],str))\n",
    "print(isinstance(\"25\",int) or isinstance(\"25\",str))"
   ]
  },
  {
   "cell_type": "markdown",
   "metadata": {},
   "source": [
    "# No.5 Python program to test if a variable is a list or tuple or a set."
   ]
  },
  {
   "cell_type": "code",
   "execution_count": null,
   "metadata": {},
   "outputs": [],
   "source": [
    "#x = ['a', 'b', 'c', 'd']\n",
    "#x = {'a', 'b', 'c', 'd'}\n",
    "x = ('tuple', False, 3.2, 1)\n",
    "if type(x) is list:\n",
    "    print('x is a list')\n",
    "elif type(x) is set:\n",
    "    print('x is a set')\n",
    "elif type(x) is tuple:\n",
    "    print('x is a tuple')    \n",
    "else:\n",
    "    print('Neither a list or a set or a tuple.')"
   ]
  },
  {
   "cell_type": "markdown",
   "metadata": {},
   "source": [
    "# No.6 Python program to find the location of Python module sources"
   ]
  },
  {
   "cell_type": "code",
   "execution_count": 8,
   "metadata": {},
   "outputs": [],
   "source": [
    "import sys\n",
    "import os\n",
    "print(\"Lists of directories in sys module: \\n\", sys.path)\n",
    "print(\"\\n\")\n",
    "print(\"Lists of directories in os module: \\n\", os.path)"
   ]
  },
  {
   "cell_type": "markdown",
   "metadata": {},
   "source": [
    "# No.7 Python function to check whether a number is divisible by another number. Accept two integers values  from the user."
   ]
  },
  {
   "cell_type": "code",
   "execution_count": 17,
   "metadata": {},
   "outputs": [],
   "source": [
    "num1 = int(input(\"Input a number: \"))\n",
    "num2 = int(input(\"Input another number: \"))\n",
    "if (num1 % num2 == 0):\n",
    "    print(\"The first number {} is divisible by the other {}\".format(num1, num2))\n",
    "elif (num2 % num1 == 0):\n",
    "    print(\"The second number {} is divisble by the first one {}\".format(num2, num1))\n",
    "else:\n",
    "    print(\"They are not divisible\")"
   ]
  },
  {
   "cell_type": "markdown",
   "metadata": {},
   "source": [
    "# No.8 Python program to find the maximum and minimum numbers from a sequence of numbers\n",
    "# Note: No built-in functions used"
   ]
  },
  {
   "cell_type": "code",
   "execution_count": 3,
   "metadata": {},
   "outputs": [],
   "source": [
    "data = [23, 45, 78, 89, 88, -3, 0, 90]\n",
    "max_num = data[0]\n",
    "min_num = data[0]\n",
    "for num in data:\n",
    "    if num > max_num:\n",
    "        max_num = num\n",
    "    elif num < min_num:\n",
    "        min_num = num\n",
    "print(max_num, min_num)\n",
    "    #80647130336"
   ]
  },
  {
   "cell_type": "markdown",
   "metadata": {},
   "source": [
    "# No.9 Python function that a positive integer and returns the sum of cube of all the positive integers smaller than the specified number"
   ]
  },
  {
   "cell_type": "code",
   "execution_count": 11,
   "metadata": {},
   "outputs": [],
   "source": [
    "def sum_of_cube(num):\n",
    "    num -= 1\n",
    "    total = 0\n",
    "    while num > 0:\n",
    "        total += num*num*num\n",
    "        num -= 1\n",
    "    return total\n",
    "print(\"The sum of the cube is: \", sum_of_cube(int(input(\"Input an integer: \"))))"
   ]
  },
  {
   "cell_type": "markdown",
   "metadata": {},
   "source": [
    "# No.10 Python function to find a distinct pair of numbers whose product is odd from a sequence of integers"
   ]
  },
  {
   "cell_type": "code",
   "execution_count": 13,
   "metadata": {},
   "outputs": [],
   "source": [
    "def odd_product(nums):\n",
    "    for i in range(len(nums)):\n",
    "        for j in range(len(nums)):\n",
    "            if i != j:\n",
    "                product = nums[i] * nums[j]\n",
    "                if product & 1:\n",
    "                    return True\n",
    "                    return False\n",
    "data1 = [2, 4, 6, 8]\n",
    "data2 = [1, 5, 6, 8, 9]\n",
    "print(data1, odd_product(data1))\n",
    "print(data2, odd_product(data2))"
   ]
  },
  {
   "cell_type": "code",
   "execution_count": null,
   "metadata": {},
   "outputs": [],
   "source": []
  }
 ],
 "metadata": {
  "kernelspec": {
   "display_name": "Python 3",
   "language": "python",
   "name": "python3"
  },
  "language_info": {
   "codemirror_mode": {
    "name": "ipython",
    "version": 3
   },
   "file_extension": ".py",
   "mimetype": "text/x-python",
   "name": "python",
   "nbconvert_exporter": "python",
   "pygments_lexer": "ipython3",
   "version": "3.7.3"
  }
 },
 "nbformat": 4,
 "nbformat_minor": 2
}
