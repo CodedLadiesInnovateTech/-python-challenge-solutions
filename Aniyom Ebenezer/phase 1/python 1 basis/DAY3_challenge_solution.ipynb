{
 "cells": [
  {
   "cell_type": "code",
   "execution_count": 7,
   "metadata": {},
   "outputs": [
    {
     "name": "stdout",
     "output_type": "stream",
     "text": [
      "Return the absolute value of the argument.\n",
      "89\n"
     ]
    }
   ],
   "source": [
    "#1 Python program to print the documents (syntax, description etc.) of Python built-in function(s).\n",
    "print(abs.__doc__)\n",
    "print(abs(-89))"
   ]
  },
  {
   "cell_type": "code",
   "execution_count": 9,
   "metadata": {},
   "outputs": [
    {
     "name": "stdout",
     "output_type": "stream",
     "text": [
      "Input the year : 2020\n",
      "Input the month : 05\n",
      "      May 2020\n",
      "Mo Tu We Th Fr Sa Su\n",
      "             1  2  3\n",
      " 4  5  6  7  8  9 10\n",
      "11 12 13 14 15 16 17\n",
      "18 19 20 21 22 23 24\n",
      "25 26 27 28 29 30 31\n",
      "\n"
     ]
    }
   ],
   "source": [
    "#2 Python program to print the calendar of a given month and year.\n",
    "import calendar\n",
    "y = int(input(\"Input the year : \"))\n",
    "m = int(input(\"Input the month : \"))\n",
    "print(calendar.month(y, m))"
   ]
  },
  {
   "cell_type": "code",
   "execution_count": 11,
   "metadata": {},
   "outputs": [
    {
     "name": "stdout",
     "output_type": "stream",
     "text": [
      "\n",
      "a string that you \"don't\" have to escape\n",
      "This\n",
      "is a  ....... multi-line\n",
      "heredoc string --------> example\n",
      "\n"
     ]
    }
   ],
   "source": [
    "#3 Python program to print the following here document.\n",
    "print(\"\"\"\n",
    "a string that you \"don't\" have to escape\n",
    "This\n",
    "is a  ....... multi-line\n",
    "heredoc string --------> example\n",
    "\"\"\")"
   ]
  },
  {
   "cell_type": "code",
   "execution_count": 23,
   "metadata": {},
   "outputs": [
    {
     "name": "stdout",
     "output_type": "stream",
     "text": [
      "9 days\n"
     ]
    }
   ],
   "source": [
    "#4 Python program to calculate number of days between two dates.\n",
    "from datetime import date\n",
    "f_date = date(2014,7,2)\n",
    "l_date = date(2014,7,11)\n",
    "delta = l_date - f_date\n",
    "print(delta.days,\"days\")"
   ]
  },
  {
   "cell_type": "code",
   "execution_count": 24,
   "metadata": {},
   "outputs": [
    {
     "name": "stdout",
     "output_type": "stream",
     "text": [
      "The volume of the sphere is:  904.7786842338603\n"
     ]
    }
   ],
   "source": [
    "#5 Python program to get the volume of a sphere with radius 6.\n",
    "pi = 3.1415926535897931\n",
    "r= 6.0\n",
    "V= 4.0/3.0*pi* r**3\n",
    "print('The volume of the sphere is: ',V)"
   ]
  },
  {
   "cell_type": "code",
   "execution_count": 27,
   "metadata": {},
   "outputs": [
    {
     "name": "stdout",
     "output_type": "stream",
     "text": [
      "Enter a number: 3\n",
      "The difference between 3 and 17 is:  -14\n"
     ]
    }
   ],
   "source": [
    "#6 Python program to get the difference between a given number and 17, if the number is greater than 17 return double the absolute difference.\n",
    "import math\n",
    "n = int(input(\"Enter a number: \"))\n",
    "diff = n - 17\n",
    "print(\"The difference between {} and 17 is: \".format(n), diff)\n",
    "if n > 17:\n",
    "    double = abs(diff)**2\n",
    "    print(\"The double of the absolute diff is: \", double)"
   ]
  },
  {
   "cell_type": "code",
   "execution_count": 28,
   "metadata": {},
   "outputs": [
    {
     "name": "stdout",
     "output_type": "stream",
     "text": [
      "True\n",
      "True\n",
      "False\n",
      "False\n"
     ]
    }
   ],
   "source": [
    "#7 Python program to test whether a number is within 100 of 1000 or 2000.\n",
    "import math\n",
    "def near_thousand(n):\n",
    "      return ((abs(1000 - n) <= 100) or (abs(2000 - n) <= 100))\n",
    "print(near_thousand(1000))\n",
    "print(near_thousand(900))\n",
    "print(near_thousand(800))   \n",
    "print(near_thousand(2200))"
   ]
  },
  {
   "cell_type": "code",
   "execution_count": 33,
   "metadata": {},
   "outputs": [
    {
     "name": "stdout",
     "output_type": "stream",
     "text": [
      "Enter a number: 2\n",
      "Enter another number: 3\n",
      "Enter the last number: 4\n",
      "The sum of the three given numbers is:  9\n"
     ]
    }
   ],
   "source": [
    "#8 Python program to calculate the sum of three given numbers, if the values are equal then return three times of their sum.\n",
    "import math\n",
    "def sum_numbers(n1,n2,n3):\n",
    "    addNum = n1+n2+n3\n",
    "    print(\"The sum of the three given numbers is: \",addNum)\n",
    "    if n1 == n2 and n1 == n3 and n2 == n3:\n",
    "        return(addNum)*3\n",
    "sum_numbers(int(input(\"Enter a number: \")),int(input(\"Enter another number: \")), int(input(\"Enter the last number: \")))"
   ]
  },
  {
   "cell_type": "code",
   "execution_count": 1,
   "metadata": {},
   "outputs": [
    {
     "name": "stdout",
     "output_type": "stream",
     "text": [
      "IsArray\n",
      "IsEmpty\n"
     ]
    }
   ],
   "source": [
    "#9 Python program to get a new string from a given string where \"Is\" has been added to the front. If the given string already begins with \"Is\" then return the string unchanged.\n",
    "def new_string(str):\n",
    "    if len(str) >= 2 and str[:2] == \"Is\":\n",
    "        return str\n",
    "    return \"Is\" + str\n",
    "print(new_string(\"Array\"))\n",
    "print(new_string(\"IsEmpty\"))"
   ]
  },
  {
   "cell_type": "code",
   "execution_count": 2,
   "metadata": {},
   "outputs": [
    {
     "name": "stdout",
     "output_type": "stream",
     "text": [
      "\n",
      "\n"
     ]
    }
   ],
   "source": [
    "#10 Python program to get a string which is n (non-negative integer) copies of a given string.\n",
    "def larger_string(str, n):\n",
    "    result = \"\"\n",
    "    for i in range(10):\n",
    "        rresult = result + str\n",
    "    return result\n",
    "print(larger_string(\"abc\", 2))\n",
    "print(larger_string(\".py\",3))"
   ]
  },
  {
   "cell_type": "code",
   "execution_count": null,
   "metadata": {},
   "outputs": [],
   "source": []
  }
 ],
 "metadata": {
  "kernelspec": {
   "display_name": "Python 3",
   "language": "python",
   "name": "python3"
  },
  "language_info": {
   "codemirror_mode": {
    "name": "ipython",
    "version": 3
   },
   "file_extension": ".py",
   "mimetype": "text/x-python",
   "name": "python",
   "nbconvert_exporter": "python",
   "pygments_lexer": "ipython3",
   "version": "3.7.3"
  }
 },
 "nbformat": 4,
 "nbformat_minor": 2
}
