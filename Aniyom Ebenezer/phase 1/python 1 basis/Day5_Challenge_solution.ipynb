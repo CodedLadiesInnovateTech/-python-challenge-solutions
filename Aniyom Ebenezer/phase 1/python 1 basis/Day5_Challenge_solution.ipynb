{
 "cells": [
  {
   "cell_type": "code",
   "execution_count": 3,
   "metadata": {},
   "outputs": [],
   "source": [
    "#1 Python program to compute the greatest common divisor (GCD) of two positive numbers\n",
    "def gcd(x,y):\n",
    "    gcd = 1\n",
    "    if x % y == 0:\n",
    "        return y\n",
    "    \n",
    "    for k in range(int(y/2), 0, -1):\n",
    "        if x % k == 0 and y % k == 0:\n",
    "            gcd = k\n",
    "            break\n",
    "    return gcd\n",
    "print(gcd(12, 24))\n",
    "print(gcd(16, 100))"
   ]
  },
  {
   "cell_type": "code",
   "execution_count": 5,
   "metadata": {},
   "outputs": [],
   "source": [
    "#2 Python program to compute the least common multiple(LCM) of two positive integers.\n",
    "def lcm(x,y):\n",
    "    if x == y:\n",
    "        z = x\n",
    "    else:\n",
    "        z = y\n",
    "        \n",
    "    while(True):\n",
    "        if((z % x == 0) and (z % y ==0)):\n",
    "            lcm = z\n",
    "            break\n",
    "        z += 1\n",
    "    return lcm\n",
    "print(lcm(36, 14))\n",
    "print(lcm(9, 12))"
   ]
  },
  {
   "cell_type": "code",
   "execution_count": 7,
   "metadata": {},
   "outputs": [],
   "source": [
    "#3 Python program to sum of three given integers. However, if two values are equal sum will be zero.\n",
    "def sum(x,y,z):\n",
    "    if x == y or x == z or y == z:\n",
    "        sum = 0\n",
    "    else:\n",
    "        sum = x + y + z\n",
    "    return sum\n",
    "print(sum(2,3,4))\n",
    "print(sum(2,2,4))\n",
    "print(sum(4,3,3))"
   ]
  },
  {
   "cell_type": "code",
   "execution_count": 10,
   "metadata": {},
   "outputs": [],
   "source": [
    "#4 Python program to sum of two given integers. However, if the sum is between 15 to 20, it will return 20.\n",
    "def sum(x, y):\n",
    "    addNum = x + y\n",
    "    if addNum >= 15 and addNum <= 20:\n",
    "        addNum = 20\n",
    "    else:\n",
    "        addNum = x + y\n",
    "    return addNum\n",
    "print(sum(3,5))\n",
    "print(sum(10,6))"
   ]
  },
  {
   "cell_type": "code",
   "execution_count": 12,
   "metadata": {},
   "outputs": [],
   "source": [
    "#5 Python program that will return true if the given two integer values are equal or their sum or their difference or difference is 5.\n",
    "def is_true(x,y):\n",
    "    is_true = False\n",
    "    if (x == y or (x+y) == 5 or (x-y) == 5 or (y-x) == 5):\n",
    "        is_true = True\n",
    "    else:\n",
    "        is_true = False\n",
    "    return is_true\n",
    "print(is_true(5,6))\n",
    "print(is_true(2,2))\n",
    "print(is_true(10,5))"
   ]
  },
  {
   "cell_type": "code",
   "execution_count": 19,
   "metadata": {},
   "outputs": [],
   "source": [
    "#6 Python program to add two objects if both objects are an integer type.\n",
    "def add_objects(x, y):\n",
    "    if not (isinstance(x, int) and isinstance(y, int)):\n",
    "        raise TypeError(\"Input must be integers\")\n",
    "    return x + y\n",
    "print(add_objects(2,4))"
   ]
  },
  {
   "cell_type": "code",
   "execution_count": 23,
   "metadata": {},
   "outputs": [],
   "source": [
    "#7 Python program to display your details like name, age, address in three different lines\n",
    "name = \"Aniyom Ebenezer\"\n",
    "age = 21\n",
    "address = \"Da Church Hostel, FUTO Road\"\n",
    "print(\"Name: {} \\nAge: {} years \\nAddress: {}\".format(name, age, address))"
   ]
  },
  {
   "cell_type": "code",
   "execution_count": 27,
   "metadata": {},
   "outputs": [],
   "source": [
    "#8 Python program to solve (x + y)*(x + y). Test Data: x = 4, y = 3\n",
    "def solve(x, y):\n",
    "    solve_this = (x + y) * (x + y)\n",
    "    return solve_this\n",
    "print(solve(4,3))"
   ]
  },
  {
   "cell_type": "code",
   "execution_count": 1,
   "metadata": {},
   "outputs": [],
   "source": [
    "#9 Python program compute the future value of a specified principal amount, rate of interest, and a number of years. Tested Data: amt = 10000, int = 3.5, years = 7\n",
    "amt = 10000\n",
    "int_rate = 3.5\n",
    "years = 7\n",
    "future_value = amt*((1+(0.01*int_rate))**years)\n",
    "print(round(future_value,2))"
   ]
  },
  {
   "cell_type": "code",
   "execution_count": 3,
   "metadata": {},
   "outputs": [],
   "source": [
    "#10 Python program to compute the distance between the points (x1, y1) and (x2, y2).\n",
    "import math\n",
    "p1 = [4, 0]\n",
    "p2 = [6, 6]\n",
    "distance = math.sqrt( ((p1[0]-p2[0])**2)+((p1[1]-p2[1])**2))\n",
    "\n",
    "print(distance)"
   ]
  },
  {
   "cell_type": "code",
   "execution_count": null,
   "metadata": {},
   "outputs": [],
   "source": []
  }
 ],
 "metadata": {
  "kernelspec": {
   "display_name": "Python 3",
   "language": "python",
   "name": "python3"
  },
  "language_info": {
   "codemirror_mode": {
    "name": "ipython",
    "version": 3
   },
   "file_extension": ".py",
   "mimetype": "text/x-python",
   "name": "python",
   "nbconvert_exporter": "python",
   "pygments_lexer": "ipython3",
   "version": "3.7.3"
  }
 },
 "nbformat": 4,
 "nbformat_minor": 2
}
