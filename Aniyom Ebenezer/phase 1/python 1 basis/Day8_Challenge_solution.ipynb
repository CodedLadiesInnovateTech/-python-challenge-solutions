{
 "cells": [
  {
   "cell_type": "code",
   "execution_count": 8,
   "metadata": {},
   "outputs": [],
   "source": [
    "#1. Python program to convert the distance (in feet) to inches, yards, and miles\n",
    "def distance_converter(dist_in_ft):\n",
    "    dist_in_inch = 12*dist_in_ft\n",
    "    dist_in_yrd = 1/3*dist_in_ft\n",
    "    dist_in_miles = 1/5280*dist_in_ft\n",
    "    print(\"Distance in feet is: {} inches\".format(dist_in_inch))\n",
    "    print(\"Distance in yards is: {} yards\".format(dist_in_yrd))\n",
    "    print(\"Distance in miles is: {} miles\".format(dist_in_miles))\n",
    "distance_converter(float(input(\"Enter the distance in feet: \")))"
   ]
  },
  {
   "cell_type": "code",
   "execution_count": 13,
   "metadata": {},
   "outputs": [],
   "source": [
    "#2. Python program to convert all unit of time into seconds\n",
    "def time_convert(days,hours,minutes,seconds):\n",
    "    day_to_sec = days * 3600 * 60\n",
    "    hr_to_sec = hours*3600\n",
    "    minute_to_sec = minutes*60\n",
    "    secs = seconds\n",
    "    time = day_to_sec + hr_to_sec + minute_to_sec + secs\n",
    "    print(\"The unit of Time from days is: \",time,\"secs\")\n",
    "time_convert(int(input(\"No of days: \")), int(input(\"No of hours: \")), int(input(\"No of minutes: \")), int(input(\"No of seconds: \")))"
   ]
  },
  {
   "cell_type": "code",
   "execution_count": 18,
   "metadata": {},
   "outputs": [],
   "source": [
    "#3. Python program to get an absolute file path\n",
    "def absolute_file_path(path_fname):\n",
    "    import os \n",
    "    return os.path.abspath(\"path_fname\")\n",
    "\n",
    "print(\"Absolute file path: \", absolute_file_path(\"test.txt\"))\n",
    "\n",
    "\n",
    "#reference: w3resource.com"
   ]
  },
  {
   "cell_type": "code",
   "execution_count": 20,
   "metadata": {},
   "outputs": [],
   "source": [
    "#4. Python program to get file creation and modification date/times\n",
    "import os.path, time\n",
    "print(\"Last modified: %s\" % time.ctime(os.path.getmtime(\"test.txt\")))\n",
    "print(\"Created: %s\" % time.ctime(os.path.getctime(\"test.txt\")))\n",
    "\n",
    "#reference: w3resource.com"
   ]
  },
  {
   "cell_type": "code",
   "execution_count": 28,
   "metadata": {},
   "outputs": [],
   "source": [
    "#5. Python program to convert seconds to day, hour, minutes and seconds\n",
    "\n",
    "def time_secs_convert(time_in_sec):\n",
    "    day = time_in_sec//(24 * 3600)\n",
    "    time_in_sec = time_in_sec%(24*3600)\n",
    "    hr = time_in_sec//(3600)\n",
    "    time_in_sec %= 3600\n",
    "    minute = time_in_sec//(60)\n",
    "    time_in_sec %= 60\n",
    "    sec = time_in_sec\n",
    "    print(\"d:h:m:s --> {}:{}:{}:{}\".format(day,hr,minute,sec))\n",
    "time_secs_convert(1234565)"
   ]
  },
  {
   "cell_type": "code",
   "execution_count": null,
   "metadata": {},
   "outputs": [],
   "source": [
    "#6. Python program to calculate body mass index\n",
    "#Definition: Body mass index = Weight(Kg)/[Height**2(m^2)]\n",
    "\n",
    "Weight = float(input(\"Enter the Weight(in Kg): \"))\n",
    "Height = float(input(\"Enter the height(in m^2): \"))\n",
    "body_index = round((Weight/(Height)**2),2)\n",
    "print(\"The Body mass index is: {} kg/m^2\".format(body_index))"
   ]
  },
  {
   "cell_type": "code",
   "execution_count": null,
   "metadata": {},
   "outputs": [],
   "source": [
    "#7. Python program to convert pressure in kilopascals to pounds per square inch, a millimeter of mercury and atmosphere pressure\n",
    "kpa = float(input(\"Enter presure in Kilopascal: \"))\n",
    "psi = round((kpa * 0.145038),3)\n",
    "mmHg = round((kpa * 7.50062),3)\n",
    "atm = round((kpa * 0.00986923),3)\n",
    "print(\"The Pressure in Pounds per square inch is: {} psi\".format(psi))\n",
    "print(\"The Pressure in millimeter of mercury is: {} mmHg\".format(mmHg))\n",
    "print(\"The Pressure in atmosphere pressure is: {} atm\".format(atm))"
   ]
  },
  {
   "cell_type": "code",
   "execution_count": null,
   "metadata": {},
   "outputs": [],
   "source": [
    "#8. Python program to calculate the sum of the digits in an integer.\n",
    "num = int(input(\"Enter a four digit number: \"))\n",
    "x = num // 1000\n",
    "x1 = (num - x*1000)//100\n",
    "x2 = (num - x*1000 - x1*100)//10\n",
    "x3 = (num - x*1000 - x1*100 - x2*10)\n",
    "print(\"the sun is: \", x+x1+x2+x3)"
   ]
  },
  {
   "cell_type": "code",
   "execution_count": null,
   "metadata": {},
   "outputs": [],
   "source": [
    "#9. Python program to sort three integers without using conditional statements and loops\n",
    "x = int(input(\"Enter a first number: \"))\n",
    "y = int(input(\"Enter second number: \"))\n",
    "z = int(input(\"Enter third number: \"))\n",
    "a = min(x,y,z)\n",
    "b = max(x,y,z)\n",
    "c = (x+y+y)-a-b\n",
    "print(\"The integer {}{}{} is sorted in ascending order: {} {} {}\".format(x,y,z,a,c,b))"
   ]
  },
  {
   "cell_type": "code",
   "execution_count": null,
   "metadata": {},
   "outputs": [],
   "source": [
    "#10. Python program to sort files by date\n",
    "import glob\n",
    "import os\n",
    "\n",
    "files = glob.glob(\"*.txt\")\n",
    "files.sort(key=os.path.getmtime)\n",
    "print(\"\\n\".join(files))\n",
    "\n",
    "#reference: w3resource"
   ]
  },
  {
   "cell_type": "code",
   "execution_count": null,
   "metadata": {},
   "outputs": [],
   "source": []
  }
 ],
 "metadata": {
  "kernelspec": {
   "display_name": "Python 3",
   "language": "python",
   "name": "python3"
  },
  "language_info": {
   "codemirror_mode": {
    "name": "ipython",
    "version": 3
   },
   "file_extension": ".py",
   "mimetype": "text/x-python",
   "name": "python",
   "nbconvert_exporter": "python",
   "pygments_lexer": "ipython3",
   "version": "3.7.3"
  }
 },
 "nbformat": 4,
 "nbformat_minor": 2
}
