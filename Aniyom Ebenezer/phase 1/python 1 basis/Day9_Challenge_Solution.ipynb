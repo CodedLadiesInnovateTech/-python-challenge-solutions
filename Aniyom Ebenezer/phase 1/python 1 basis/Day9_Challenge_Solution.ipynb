{
 "cells": [
  {
   "cell_type": "markdown",
   "metadata": {},
   "source": [
    "# No.1 Python program to get a directory listing, sorted by creation date"
   ]
  },
  {
   "cell_type": "code",
   "execution_count": 5,
   "metadata": {},
   "outputs": [],
   "source": [
    "from stat import S_ISREG, ST_CTIME, ST_MODE\n",
    "import os, sys, time\n",
    "#Relative or absolute path to the directory\n",
    "dir_path = sys.argv[1] if len(sys.argv) == 2 else r '.'\n",
    "\n",
    "#all entries in the directory w/ stats\n",
    "data = (os.path.join(dir_path, fn) for fn in os.listdir(dir_path))\n",
    "data = ((os.stat(path),path) for path in data)\n",
    "\n",
    "#Regular files, insert creation date\n",
    "data = ((stat[ST_TIME], path)\n",
    "           for stat, path in data if S_ISREG(stat[ST_MODE]))\n",
    "\n",
    "for cdate, path in sorted(data):\n",
    "    print(time.ctime(cdate), os.path.basename(path))\n",
    "    \n",
    "#reference: w3resource.com"
   ]
  },
  {
   "cell_type": "markdown",
   "metadata": {},
   "source": [
    "# No. 2 Python program to get the details of math module."
   ]
  },
  {
   "cell_type": "code",
   "execution_count": 2,
   "metadata": {},
   "outputs": [],
   "source": [
    "import math\n",
    "math_l = dir(math)\n",
    "print(math_l)"
   ]
  },
  {
   "cell_type": "markdown",
   "metadata": {},
   "source": [
    "# No. 3 Python program to calculate midpoints of a line"
   ]
  },
  {
   "cell_type": "code",
   "execution_count": 4,
   "metadata": {},
   "outputs": [],
   "source": [
    "# Midpoint = (((x1+x2)/2), ((y1+y2)/2))\n",
    "x1 = float(input(\"Enter the first value of X: \"))\n",
    "x2 = float(input(\"Enter the second value of X: \"))\n",
    "y1 = float(input(\"Enter the first value of Y: \"))\n",
    "y2 = float(input(\"Enter the second value of Y: \"))\n",
    "Average_x = (x1+x2)/2\n",
    "Average_y = (y1+y2)/2\n",
    "midpoint = (Average_x, Average_y)\n",
    "print(\"The midpoint of the line is: \",midpoint)"
   ]
  },
  {
   "cell_type": "markdown",
   "metadata": {},
   "source": [
    "# No.4 Python program to hash a word"
   ]
  },
  {
   "cell_type": "code",
   "execution_count": null,
   "metadata": {},
   "outputs": [],
   "source": [
    "soundex=[0,1,2,3,0,1,2,0,0,2,2,4,5,5,0,1,2,6,2,3,0,1,0,2,0,2]\n",
    " \n",
    "word=input(\"Input the word be hashed: \")\n",
    " \n",
    "word=word.upper()\n",
    " \n",
    "coded=word[0]\n",
    " \n",
    "for a in word[1:len(word)]:\n",
    "    i=65-ord(a)\n",
    "    coded=coded+str(soundex[i])\n",
    "print() \n",
    "print(\"The coded word is: \"+coded)\n",
    "print()\n",
    "\n",
    "#reference: w3resource"
   ]
  },
  {
   "cell_type": "markdown",
   "metadata": {},
   "source": [
    "# No.5 Python program to get the copyright information."
   ]
  },
  {
   "cell_type": "code",
   "execution_count": 9,
   "metadata": {},
   "outputs": [],
   "source": [
    "import sys\n",
    "print(\"Copyright information is:\\n\",sys.copyright)"
   ]
  },
  {
   "cell_type": "markdown",
   "metadata": {},
   "source": [
    "# No.6 Python program to get the command-line arguments (name of the script, the number of arguments, arguments) passed to a script"
   ]
  },
  {
   "cell_type": "code",
   "execution_count": null,
   "metadata": {},
   "outputs": [],
   "source": [
    "import sys\n",
    "print(\"This is the name/path of the script:\"),sys.argv[0]\n",
    "print(\"Number of arguments:\",len(sys.argv))\n",
    "print(\"Argument List:\",str(sys.argv))"
   ]
  },
  {
   "cell_type": "markdown",
   "metadata": {},
   "source": [
    "# No.7 Python program to test whether the system is a big-endian platform or little-endian platform."
   ]
  },
  {
   "cell_type": "code",
   "execution_count": 14,
   "metadata": {},
   "outputs": [
    {
     "name": "stdout",
     "output_type": "stream",
     "text": [
      "\n"
     ]
    }
   ],
   "source": [
    "import sys\n",
    "print()\n",
    "if sys.byteorder == \"little\":\n",
    "    #intel, alpha\n",
    "    print(\"Little-endian platform.\")\n",
    "else:\n",
    "    #motorola, sparc\n",
    "    print(\"Big-endian platform.\")\n",
    "\n"
   ]
  },
  {
   "cell_type": "markdown",
   "metadata": {},
   "source": [
    "# No.8 Python program to find the available built-in modules"
   ]
  },
  {
   "cell_type": "code",
   "execution_count": 18,
   "metadata": {},
   "outputs": [],
   "source": [
    "import sys\n",
    "import textwrap\n",
    "module_name = ', '.join(sorted(sys.builtin_module_names))\n",
    "print(textwrap.fill(module_name, width=70))"
   ]
  },
  {
   "cell_type": "markdown",
   "metadata": {},
   "source": [
    "# No.9  Python program to get the size of an object in bytes"
   ]
  },
  {
   "cell_type": "code",
   "execution_count": null,
   "metadata": {},
   "outputs": [],
   "source": [
    "import sys\n",
    "str1 = \"one\"\n",
    "str2 = \"four\"\n",
    "str3 = \"three\"\n",
    "print()\n",
    "print(\"Memory size of '\"+str1+\"' = \"+str(sys.getsizeof(str1))+ \" bytes\")\n",
    "print(\"Memory size of '\"+str2+\"' = \"+str(sys.getsizeof(str2))+ \" bytes\")\n",
    "print(\"Memory size of '\"+str3+\"' = \"+str(sys.getsizeof(str3))+ \" bytes\")\n",
    "print()"
   ]
  },
  {
   "cell_type": "markdown",
   "metadata": {},
   "source": [
    "# No. 10 Python program to get the current value of the recursion limit"
   ]
  },
  {
   "cell_type": "code",
   "execution_count": null,
   "metadata": {},
   "outputs": [],
   "source": [
    "import sys\n",
    "print(\"The current recursion value limit is: \",sys.getrecursionlimit())"
   ]
  }
 ],
 "metadata": {
  "kernelspec": {
   "display_name": "Python 3",
   "language": "python",
   "name": "python3"
  },
  "language_info": {
   "codemirror_mode": {
    "name": "ipython",
    "version": 3
   },
   "file_extension": ".py",
   "mimetype": "text/x-python",
   "name": "python",
   "nbconvert_exporter": "python",
   "pygments_lexer": "ipython3",
   "version": "3.7.3"
  }
 },
 "nbformat": 4,
 "nbformat_minor": 2
}
