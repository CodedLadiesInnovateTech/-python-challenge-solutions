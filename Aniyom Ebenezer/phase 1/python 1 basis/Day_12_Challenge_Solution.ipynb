{
 "cells": [
  {
   "cell_type": "markdown",
   "metadata": {},
   "source": [
    "# No.1 Python program to access and print a URL's content to the console"
   ]
  },
  {
   "cell_type": "code",
   "execution_count": 5,
   "metadata": {},
   "outputs": [],
   "source": [
    "from http.client import HTTPConnection\n",
    "conn = HTTPConnection(\"example.com\")\n",
    "conn.request(\"GET\", \"/\")\n",
    "result = conn.getresponse()\n",
    "contents = result.read()\n",
    "print(contents)\n",
    "\n",
    "#Refernce: w3resource"
   ]
  },
  {
   "cell_type": "markdown",
   "metadata": {},
   "source": [
    "# No.2 Python program to get system command output"
   ]
  },
  {
   "cell_type": "code",
   "execution_count": 9,
   "metadata": {},
   "outputs": [],
   "source": [
    "import subprocess\n",
    "returned_text = subprocess.check_output(\"dir\", shell=True, universal_newlines=True)\n",
    "print(\"dir command to list file and directory\")\n",
    "print(returned_text)\n",
    "\n",
    "#reference: w3resource"
   ]
  },
  {
   "cell_type": "markdown",
   "metadata": {},
   "source": [
    "# No.3 Python to extract the filename from a given path"
   ]
  },
  {
   "cell_type": "code",
   "execution_count": 13,
   "metadata": {},
   "outputs": [],
   "source": [
    "import os\n",
    "\n",
    "print(os.path.basename('/User/EBEN/Desktop/100Days Python challenge solution port/DAY2_challenge_submission.py'))"
   ]
  },
  {
   "cell_type": "markdown",
   "metadata": {},
   "source": [
    "# No.4 Python program to get the effective group id, effective user id, real group id, a list of supplement group ids associated with the current process"
   ]
  },
  {
   "cell_type": "code",
   "execution_count": 15,
   "metadata": {},
   "outputs": [],
   "source": [
    "import os\n",
    "print(\"\\nEffective group id: \",os.getegid())\n",
    "print(\"\\nEffective user id: \",os.geteuid())\n",
    "print(\"\\nReal group id: \",os.getgid())\n",
    "print(\"\\nList of supplemented ids: \",os.getgroups())"
   ]
  },
  {
   "cell_type": "markdown",
   "metadata": {},
   "source": [
    "# No.5 Python program to get user environment"
   ]
  },
  {
   "cell_type": "code",
   "execution_count": 18,
   "metadata": {},
   "outputs": [],
   "source": [
    "import os \n",
    "\n",
    "print(os.environ)"
   ]
  },
  {
   "cell_type": "markdown",
   "metadata": {},
   "source": [
    "# No.6 Python program to divide a path on the extension separator"
   ]
  },
  {
   "cell_type": "code",
   "execution_count": 21,
   "metadata": {},
   "outputs": [],
   "source": [
    "import os.path\n",
    "for path  in [\"test.txt\", \"filename\", \"/User/EBEN/test.txt\", \"/\", \" \"]:\n",
    "    print(\"{}: \".format(path, os.path.splitext(path)))\n",
    "    \n",
    "    # Reference: w3resource"
   ]
  },
  {
   "cell_type": "markdown",
   "metadata": {},
   "source": [
    "# No.7 Python program to retrieve file properties"
   ]
  },
  {
   "cell_type": "code",
   "execution_count": 26,
   "metadata": {},
   "outputs": [],
   "source": [
    "import os \n",
    "import time\n",
    "\n",
    "file = os.path.__file__\n",
    "\n",
    "print(\"File          :\", file )\n",
    "print(\"Access time   :\", time.ctime(os.path.getatime(file)))\n",
    "print(\"Modified time :\", time.ctime(os.path.getmtime(file)))\n",
    "print(\"Changed time  :\", time.ctime(os.path.getctime(file)))\n",
    "print(\"Size          :\", os.path.getsize(file))"
   ]
  },
  {
   "cell_type": "markdown",
   "metadata": {},
   "source": [
    "# No.8 Python program to find path refers to a file or directory when you encounter a path name"
   ]
  },
  {
   "cell_type": "code",
   "execution_count": 30,
   "metadata": {},
   "outputs": [],
   "source": [
    "import os.path\n",
    "File = os.path.__file__\n",
    "\n",
    "for file in [File, os.path.dirname(File), \"/\", \"./broken_link\"]:\n",
    "    print(\"File            :\", file)\n",
    "    print(\"Absolute        :\", os.path.isabs(file))\n",
    "    print(\"Is File?        :\", os.path.isfile(file))\n",
    "    print(\"Is Dir?         :\", os.path.isdir(file))\n",
    "    print(\"Is Link?        :\", os.path.islink(file))\n",
    "    print(\"Exists?         :\", os.path.exists(file))\n",
    "    print(\"Link Exists?    :\", os.path.lexits(file))"
   ]
  },
  {
   "cell_type": "markdown",
   "metadata": {},
   "source": [
    "# No.9 Python program to check if a number is positive, negative or zero"
   ]
  },
  {
   "cell_type": "code",
   "execution_count": 32,
   "metadata": {},
   "outputs": [],
   "source": [
    "num = float(input(\"Input a number: \"))\n",
    "if num > 0:\n",
    "    print(\"It is a positive Number\")\n",
    "elif num == 0:\n",
    "    print(\"It is a Zero value\")\n",
    "else:\n",
    "    print(\"It is a negative number\")"
   ]
  },
  {
   "cell_type": "markdown",
   "metadata": {},
   "source": [
    "# No.10 Python program to get numbers divisible by fifteen from a list using anonymous function"
   ]
  },
  {
   "cell_type": "code",
   "execution_count": 40,
   "metadata": {},
   "outputs": [],
   "source": [
    "nums = [30, 60, 88, 90, 45, 33]\n",
    "print(\"The numbers divisible by 15 are: \")\n",
    "for num in nums:\n",
    "    if num % 15 == 0:\n",
    "        print(num)"
   ]
  },
  {
   "cell_type": "code",
   "execution_count": null,
   "metadata": {},
   "outputs": [],
   "source": []
  }
 ],
 "metadata": {
  "kernelspec": {
   "display_name": "Python 3",
   "language": "python",
   "name": "python3"
  },
  "language_info": {
   "codemirror_mode": {
    "name": "ipython",
    "version": 3
   },
   "file_extension": ".py",
   "mimetype": "text/x-python",
   "name": "python",
   "nbconvert_exporter": "python",
   "pygments_lexer": "ipython3",
   "version": "3.7.3"
  }
 },
 "nbformat": 4,
 "nbformat_minor": 2
}
