{
 "cells": [
  {
   "cell_type": "markdown",
   "metadata": {},
   "source": [
    "# No.1 Python program to make file lists from current directory using a wildcard"
   ]
  },
  {
   "cell_type": "code",
   "execution_count": 5,
   "metadata": {},
   "outputs": [],
   "source": [
    "import glob\n",
    "file_list = glob.glob(\"*.*\")\n",
    "print(file_list)\n",
    "\n",
    "#refernce: w3resource"
   ]
  },
  {
   "cell_type": "markdown",
   "metadata": {},
   "source": [
    "# No.2 Python program to remove the first item from a specified list."
   ]
  },
  {
   "cell_type": "code",
   "execution_count": 7,
   "metadata": {},
   "outputs": [],
   "source": [
    "nums = [\"life\", 23, 80, \"Python\", 90.4]\n",
    "del nums[0]\n",
    "print(nums)"
   ]
  },
  {
   "cell_type": "markdown",
   "metadata": {},
   "source": [
    "# No.3 Python program to input a number, if it is not a number generate an error message"
   ]
  },
  {
   "cell_type": "code",
   "execution_count": 5,
   "metadata": {},
   "outputs": [],
   "source": [
    "try:\n",
    "    num = float(input(\"Input a number: \"))\n",
    "    print(num)\n",
    "except ValueError:\n",
    "    print(\"You entered an invalid input, Try again!\")"
   ]
  },
  {
   "cell_type": "markdown",
   "metadata": {},
   "source": [
    "# No.4 Python program to filter the positive numbers from a list"
   ]
  },
  {
   "cell_type": "code",
   "execution_count": 13,
   "metadata": {},
   "outputs": [],
   "source": [
    "list1 = [1, 3, 8, -99, -9, 75, -90, 45]\n",
    "new_list = list(filter(lambda x: x > 0, nums)) \n",
    "print(new_list)"
   ]
  },
  {
   "cell_type": "markdown",
   "metadata": {},
   "source": [
    "# No.5 Python program to compute the product of a list of integers (without using for loop)"
   ]
  },
  {
   "cell_type": "code",
   "execution_count": 16,
   "metadata": {},
   "outputs": [],
   "source": [
    "from functools import reduce\n",
    "nums = [30, 50, 10]\n",
    "product_of_list = reduce((lambda x,y: x * y ), nums)\n",
    "print(\"The product of the integers is\", product_of_list)\n",
    "\n",
    "#reference: w3resource"
   ]
  },
  {
   "cell_type": "markdown",
   "metadata": {},
   "source": [
    "# No.6 Python program to print unicorn characters"
   ]
  },
  {
   "cell_type": "code",
   "execution_count": null,
   "metadata": {},
   "outputs": [],
   "source": [
    "str = u'\\u0050\\u0068\\u006f\\u006e\\u0070'\n",
    "print(str)"
   ]
  },
  {
   "cell_type": "markdown",
   "metadata": {},
   "source": [
    "# No.7 Python program to prove that two strings variables of same value point same memory location"
   ]
  },
  {
   "cell_type": "code",
   "execution_count": 20,
   "metadata": {},
   "outputs": [],
   "source": [
    "str1 = \"Python\"\n",
    "str2 = \"Python\"\n",
    "\n",
    "print(\"Memory location of str1 = \",hex(id(str1)))\n",
    "print(\"Memory location of str2 = \",hex(id(str2)))"
   ]
  },
  {
   "cell_type": "markdown",
   "metadata": {},
   "source": [
    "# No.8 Python program to create a bytearray from a list."
   ]
  },
  {
   "cell_type": "code",
   "execution_count": 23,
   "metadata": {},
   "outputs": [],
   "source": [
    "nums = [60, 10, 40, 20, 80]\n",
    "values = bytearray(nums)\n",
    "for x in values:\n",
    "    print(x)\n",
    "    \n",
    "# reference: w3resource"
   ]
  },
  {
   "cell_type": "markdown",
   "metadata": {},
   "source": [
    "# No.9 Python program to display a floating numbers in specified numbers"
   ]
  },
  {
   "cell_type": "code",
   "execution_count": 26,
   "metadata": {},
   "outputs": [],
   "source": [
    "specified_num = 4330.9089\n",
    "\n",
    "print(\"The specified order %.f\"%specified_num)\n",
    "\n",
    "print(\"The specified order %.2f\"%specified_num)"
   ]
  },
  {
   "cell_type": "markdown",
   "metadata": {},
   "source": [
    "# No.10 Python program to format a specified string to limit the number of characters to 6"
   ]
  },
  {
   "cell_type": "code",
   "execution_count": 28,
   "metadata": {},
   "outputs": [],
   "source": [
    "str_value = \"Ebenezer\"\n",
    "print(\"%.6s\"% str_value)"
   ]
  },
  {
   "cell_type": "code",
   "execution_count": null,
   "metadata": {},
   "outputs": [],
   "source": []
  }
 ],
 "metadata": {
  "kernelspec": {
   "display_name": "Python 3",
   "language": "python",
   "name": "python3"
  }
 },
 "nbformat": 4,
 "nbformat_minor": 2
}
