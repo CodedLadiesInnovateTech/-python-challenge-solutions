{
 "cells": [
  {
   "cell_type": "code",
   "execution_count": null,
   "metadata": {},
   "outputs": [],
   "source": [
    "#1 Python program to find whether a given number (accept from the user) is even or odd, print out an appropriate message to the user.\n",
    "num = int(input(\"Please Enter a Number: \"))\n",
    "mod = num % 2\n",
    "if mod > 0 :\n",
    "    print(\"The Number entered is an odd Number\")\n",
    "else:\n",
    "    print(\"The Number is an even number\")"
   ]
  },
  {
   "cell_type": "code",
   "execution_count": 12,
   "metadata": {},
   "outputs": [
    {
     "name": "stdout",
     "output_type": "stream",
     "text": [
      "Please enter a letter: t\n",
      "False\n"
     ]
    }
   ],
   "source": [
    "def is_vowel(char):\n",
    "    all_vowels =\"aeiou\"\n",
    "    return char in all_vowels\n",
    "print(is_vowel(input(\"Please enter a letter: \").lower()))"
   ]
  },
  {
   "cell_type": "code",
   "execution_count": null,
   "metadata": {},
   "outputs": [],
   "source": [
    "#2 Python program to count the number 4 in a given list.\n",
    "\n",
    "def list_count_4(nums):\n",
    "  count = 0  \n",
    "  for num in nums:\n",
    "    if num == 4:\n",
    "      count = count + 1\n",
    "\n",
    "  return count\n",
    "\n",
    "print(list_count_4([3,4,5,7,5,4,3,4]))\n",
    "print(list_count_4([1, 4, 6, 4, 7, 4, 7, 4]))"
   ]
  },
  {
   "cell_type": "code",
   "execution_count": 9,
   "metadata": {},
   "outputs": [],
   "source": [
    "#3 Python program to get the n (non-negative integer) copies of the first 2 characters of a given string. Return the n copies of the whole string if the length is less than 2.\n",
    "def string_copy(str, n):\n",
    "    flen = 2\n",
    "    if flen > len(str):\n",
    "        flen = len(str)\n",
    "        substr = str[:flen]\n",
    "        \n",
    "        result = \"\"\n",
    "        for i in range(n):\n",
    "            result = result + substr\n",
    "        return result\n",
    "print(string_copy(\"a\", 2))"
   ]
  },
  {
   "cell_type": "code",
   "execution_count": null,
   "metadata": {},
   "outputs": [],
   "source": [
    "#4 Python program to test whether letter is a vowel\n",
    "def is_vowel(char):\n",
    "    all_vowels =\"aeiou\"\n",
    "    return char in all_vowels\n",
    "print(is_vowel(input(\"Please enter a letter: \").lower()))"
   ]
  },
  {
   "cell_type": "code",
   "execution_count": 19,
   "metadata": {},
   "outputs": [],
   "source": [
    "#5 Python program to check whether a specified value is contained in a group of values\n",
    "#Tested Data:\n",
    "#3->[1,5,8,3]:True\n",
    "#-1->[1,5,8,3]:False\n",
    "def value_check(grouped_data, n):\n",
    "    for value in grouped_data:\n",
    "        if n == value:\n",
    "            return True\n",
    "    return False\n",
    "print(value_check([1,5,8,3],3))\n",
    "print(value_check([1,5,8,3], -1))"
   ]
  },
  {
   "cell_type": "code",
   "execution_count": 23,
   "metadata": {},
   "outputs": [],
   "source": [
    "#6 Python program to create a histogram from a given list of integers\n",
    "def histogram(items):\n",
    "    for n in items:\n",
    "        output = ''\n",
    "        times = n\n",
    "        while(times>0):\n",
    "            output += '*'\n",
    "            times = times - 1\n",
    "            print(output)\n",
    "print(histogram([2,3,6,5]))"
   ]
  },
  {
   "cell_type": "code",
   "execution_count": 26,
   "metadata": {},
   "outputs": [],
   "source": [
    "#7 Python program to concatenate all elements in a list into a string and return it.\n",
    "def concatenate_list_data(list):\n",
    "    result = ''\n",
    "    for element in list:\n",
    "        result += str(element)\n",
    "    return result\n",
    "print(concatenate_list_data([1,4,3,2,3]))"
   ]
  },
  {
   "cell_type": "code",
   "execution_count": 33,
   "metadata": {},
   "outputs": [],
   "source": [
    "#8 Python program to print out all even numbers from a given numbers list in the same order and stop the printing if any numbers that come after 237 in the sequence\n",
    "\n",
    "numbers = [\n",
    "    386, 462, 47, 418, 907, 344, 236, 375, 823, 566, 597, 978, 328, 615, 953, 345, \n",
    "    399, 162, 758, 219, 918, 237, 412, 566, 826, 248, 866, 950, 626, 949, 687, 217,\n",
    "    815, 67, 104, 58, 512, 24, 892, 894, 767, 553, 81, 379, 843, 831, 445, 742, 717,\n",
    "    958, 743, 527\n",
    "]\n",
    "\n",
    "for x in numbers:\n",
    "    if x == 237:\n",
    "        print(x)\n",
    "        break\n",
    "    elif x % 2 == 0:\n",
    "        print(x)"
   ]
  },
  {
   "cell_type": "code",
   "execution_count": 36,
   "metadata": {},
   "outputs": [],
   "source": [
    "#9 Python program to print out a set containing all colors from color_list_1 which are not present in color_list_2\n",
    "color_list_1 = set([\"White\", \"Black\", \"Red\"])\n",
    "color_list_2 = set([\"Green\", \"Red\"]) \n",
    "print(color_list_1 - color_list_2)"
   ]
  },
  {
   "cell_type": "code",
   "execution_count": null,
   "metadata": {},
   "outputs": [],
   "source": [
    "#10 Python program that will accept the base and height of a triangle and compute the area\n",
    "h = float(input(\"Please enter the height of the triangle: \"))\n",
    "b = float(input(\"Please enter the base of the triangle: \"))\n",
    "\n",
    "area = (b*h)/2\n",
    "print(\"The Area of the Triangle is: \",area)"
   ]
  },
  {
   "cell_type": "code",
   "execution_count": null,
   "metadata": {},
   "outputs": [],
   "source": []
  }
 ],
 "metadata": {
  "kernelspec": {
   "display_name": "Python 3",
   "language": "python",
   "name": "python3"
  },
  "language_info": {
   "codemirror_mode": {
    "name": "ipython",
    "version": 3
   },
   "file_extension": ".py",
   "mimetype": "text/x-python",
   "name": "python",
   "nbconvert_exporter": "python",
   "pygments_lexer": "ipython3",
   "version": "3.7.3"
  }
 },
 "nbformat": 4,
 "nbformat_minor": 2
}
