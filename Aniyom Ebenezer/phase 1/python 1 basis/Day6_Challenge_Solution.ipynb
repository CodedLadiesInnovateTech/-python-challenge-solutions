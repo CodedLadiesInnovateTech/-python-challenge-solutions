{
 "cells": [
  {
   "cell_type": "code",
   "execution_count": 4,
   "metadata": {},
   "outputs": [],
   "source": [
    "#1 Python program to check whether a file exists\n",
    "import os.path\n",
    "open(\"abc.txt\", \"w\")\n",
    "print(os.path.isfile(\"abc.txt\"))"
   ]
  },
  {
   "cell_type": "code",
   "execution_count": 9,
   "metadata": {},
   "outputs": [],
   "source": [
    "#2 Python program to determine whether a Python shell is executing in 32bit or 64bit mode on OS.\n",
    "import struct\n",
    "print(struct.calcsize(\"P\")*8)"
   ]
  },
  {
   "cell_type": "code",
   "execution_count": 13,
   "metadata": {},
   "outputs": [],
   "source": [
    "#3 Python program to get the OS name, platform and release information\n",
    "import platform\n",
    "import os\n",
    "print(\"OS name is: \",os.name)\n",
    "print(\"Platform is: \",platform.system())\n",
    "print(\"Platform Release: \",platform.release())"
   ]
  },
  {
   "cell_type": "code",
   "execution_count": 15,
   "metadata": {},
   "outputs": [],
   "source": [
    "#4 Python program to locate python site packages\n",
    "import site\n",
    "print(site.getsitepackages())"
   ]
  },
  {
   "cell_type": "code",
   "execution_count": 17,
   "metadata": {},
   "outputs": [],
   "source": [
    "#5 Python program to call an external command in Python\n",
    "from subprocess import call\n",
    "call([\"Is\", \"-1\"])"
   ]
  },
  {
   "cell_type": "code",
   "execution_count": 20,
   "metadata": {},
   "outputs": [],
   "source": [
    "#6 Python program to get the path and name of the file that is currently executing.\n",
    "import os \n",
    "print(\"Current file Name: \",os.path.realpath(__file__))"
   ]
  },
  {
   "cell_type": "code",
   "execution_count": 22,
   "metadata": {},
   "outputs": [],
   "source": [
    "#7 Python program to find out the number of CPUs using.\n",
    "import multiprocessing\n",
    "print(multiprocessing.cpu_count())"
   ]
  },
  {
   "cell_type": "code",
   "execution_count": 24,
   "metadata": {},
   "outputs": [],
   "source": [
    "#8 Python program to parse a string to Float or integer\n",
    "n = \"245.2458\"\n",
    "print(float(n))\n",
    "print(int(float(n)))"
   ]
  },
  {
   "cell_type": "code",
   "execution_count": 33,
   "metadata": {},
   "outputs": [],
   "source": [
    "#9 Python program to list all files directory in python.\n",
    "from os import listdir\n",
    "from os.path import isfile, join\n",
    "files_list = [f for f in listdir(\"/Desktop/eben\") if isfile(join(\"/Desktop/eben\",f))]\n",
    "print(files_list)"
   ]
  },
  {
   "cell_type": "code",
   "execution_count": 30,
   "metadata": {},
   "outputs": [],
   "source": [
    "#10 Python program to print without newline or space\n",
    "for i in range(0, 10):\n",
    "    print(\"*\", end=\"\")\n",
    "print(\"\\n\")"
   ]
  },
  {
   "cell_type": "code",
   "execution_count": null,
   "metadata": {},
   "outputs": [],
   "source": []
  }
 ],
 "metadata": {
  "kernelspec": {
   "display_name": "Python 3",
   "language": "python",
   "name": "python3"
  },
  "language_info": {
   "codemirror_mode": {
    "name": "ipython",
    "version": 3
   },
   "file_extension": ".py",
   "mimetype": "text/x-python",
   "name": "python",
   "nbconvert_exporter": "python",
   "pygments_lexer": "ipython3",
   "version": "3.7.3"
  }
 },
 "nbformat": 4,
 "nbformat_minor": 2
}
